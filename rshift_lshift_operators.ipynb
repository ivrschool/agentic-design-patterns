{
 "cells": [
  {
   "cell_type": "code",
   "execution_count": 46,
   "metadata": {},
   "outputs": [],
   "source": [
    "from textwrap import dedent\n",
    "\n",
    "class Agent:\n",
    "    def __init__(self, name, task_description, task_expected_output=\"\"):\n",
    "        self.name = name\n",
    "        self.task_description = task_description\n",
    "        self.task_expected_output = task_expected_output\n",
    "        self.dependencies = []\n",
    "        self.dependents = []\n",
    "        self.context = \"\"\n",
    "\n",
    "    def __repr__(self):\n",
    "        return f\"{self.name}\"\n",
    "\n",
    "    def __rshift__(self, other):\n",
    "        self.add_dependent(other)\n",
    "        return other\n",
    "\n",
    "    def __lshift__(self, other):\n",
    "        self.add_dependency(other)\n",
    "        return other\n",
    "\n",
    "    def add_dependency(self, other):\n",
    "        if isinstance(other, Agent):\n",
    "            self.dependencies.append(other)\n",
    "            other.dependents.append(self)\n",
    "        elif isinstance(other, list) and all(isinstance(item, Agent) for item in other):\n",
    "            for item in other:\n",
    "                self.dependencies.append(item)\n",
    "                item.dependents.append(self)\n",
    "        else:\n",
    "            raise TypeError(\"The dependency must be an instance or list of Agent.\")\n",
    "\n",
    "    def add_dependent(self, other):\n",
    "        if isinstance(other, Agent):\n",
    "            other.dependencies.append(self)\n",
    "            self.dependents.append(other)\n",
    "        elif isinstance(other, list) and all(isinstance(item, Agent) for item in other):\n",
    "            for item in other:\n",
    "                item.dependencies.append(self)\n",
    "                self.dependents.append(item)\n",
    "        else:\n",
    "            raise TypeError(\"The dependent must be an instance or list of Agent.\")\n",
    "\n",
    "    def receive_context(self, input_data):\n",
    "        self.context += input_data + \"\\n\"\n",
    "\n",
    "    def create_prompt(self):\n",
    "        prompt = dedent(\n",
    "            f\"\"\"\n",
    "            You are an AI agent. You are part of a team of agents working together to complete a task.\n",
    "            <task_description>\n",
    "            {self.task_description}\n",
    "            </task_description>\n",
    "\n",
    "            <task_expected_output>\n",
    "            {self.task_expected_output}\n",
    "            </task_expected_output>\n",
    "\n",
    "            <context>\n",
    "            {self.context.strip()}\n",
    "            </context>\n",
    "\n",
    "            Your response:\n",
    "            \"\"\"\n",
    "        ).strip()\n",
    "        return prompt\n",
    "\n",
    "    def dummy_response(self):\n",
    "        if self.name == \"Poet Agent\":\n",
    "            return \"A gentle breeze through silent trees.\"\n",
    "        elif self.name == \"Translator Agent\":\n",
    "            return \"Una brisa suave entre árboles silenciosos.\"\n",
    "        elif self.name == \"Writer Agent\":\n",
    "            return \"Poem saved to file: poem.txt\"\n",
    "        else:\n",
    "            return f\"{self.name} responding to: {self.task_description}\"\n",
    "\n",
    "    def run(self):\n",
    "        msg = self.create_prompt()\n",
    "        output = self.dummy_response()\n",
    "        print(f\"{self.name} Output:\\n{output}\\n\")\n",
    "\n",
    "        for dependent in self.dependents:\n",
    "            dependent.receive_context(output)\n",
    "        return output\n",
    "\n"
   ]
  },
  {
   "cell_type": "code",
   "execution_count": 56,
   "metadata": {},
   "outputs": [],
   "source": [
    "\n",
    "# Example usage\n",
    "agent_1 = Agent(\"Poet Agent\", task_description=\"Write a poem about nature\")\n",
    "agent_2 = Agent(\"Translator Agent\", task_description=\"Translate the poem into Spanish\")\n",
    "agent_3 = Agent(\"Writer Agent\", task_description=\"Save the translated poem to a file\")\n",
    "\n"
   ]
  },
  {
   "cell_type": "code",
   "execution_count": 57,
   "metadata": {},
   "outputs": [
    {
     "data": {
      "text/plain": [
       "Writer Agent"
      ]
     },
     "execution_count": 57,
     "metadata": {},
     "output_type": "execute_result"
    }
   ],
   "source": [
    "agent_1 >> agent_2 >> agent_3"
   ]
  },
  {
   "cell_type": "code",
   "execution_count": 58,
   "metadata": {},
   "outputs": [
    {
     "name": "stdout",
     "output_type": "stream",
     "text": [
      "agent_1 context:  \n",
      "Poet Agent Output:\n",
      "A gentle breeze through silent trees.\n",
      "\n",
      "agent_2 context:  A gentle breeze through silent trees.\n",
      "\n",
      "Translator Agent Output:\n",
      "Una brisa suave entre árboles silenciosos.\n",
      "\n",
      "agent_3 context:  Una brisa suave entre árboles silenciosos.\n",
      "\n",
      "Writer Agent Output:\n",
      "Poem saved to file: poem.txt\n",
      "\n"
     ]
    },
    {
     "data": {
      "text/plain": [
       "'Poem saved to file: poem.txt'"
      ]
     },
     "execution_count": 58,
     "metadata": {},
     "output_type": "execute_result"
    }
   ],
   "source": [
    "print(\"agent_1 context: \", agent_1.context)\n",
    "agent_1.run()\n",
    "print(\"agent_2 context: \", agent_2.context)\n",
    "agent_2.run()\n",
    "print(\"agent_3 context: \", agent_3.context)\n",
    "agent_3.run()\n"
   ]
  },
  {
   "cell_type": "code",
   "execution_count": null,
   "metadata": {},
   "outputs": [],
   "source": []
  },
  {
   "cell_type": "code",
   "execution_count": null,
   "metadata": {},
   "outputs": [],
   "source": []
  },
  {
   "cell_type": "code",
   "execution_count": null,
   "metadata": {},
   "outputs": [],
   "source": []
  },
  {
   "cell_type": "code",
   "execution_count": null,
   "metadata": {},
   "outputs": [],
   "source": []
  },
  {
   "cell_type": "code",
   "execution_count": null,
   "metadata": {},
   "outputs": [],
   "source": []
  }
 ],
 "metadata": {
  "kernelspec": {
   "display_name": "agentic-dp",
   "language": "python",
   "name": "python3"
  },
  "language_info": {
   "codemirror_mode": {
    "name": "ipython",
    "version": 3
   },
   "file_extension": ".py",
   "mimetype": "text/x-python",
   "name": "python",
   "nbconvert_exporter": "python",
   "pygments_lexer": "ipython3",
   "version": "3.11.11"
  }
 },
 "nbformat": 4,
 "nbformat_minor": 2
}
